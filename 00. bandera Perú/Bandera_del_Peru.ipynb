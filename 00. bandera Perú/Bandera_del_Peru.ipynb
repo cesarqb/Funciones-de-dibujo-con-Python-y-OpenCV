{
  "nbformat": 4,
  "nbformat_minor": 0,
  "metadata": {
    "colab": {
      "name": "Bandera del Peru.ipynb",
      "provenance": []
    },
    "kernelspec": {
      "name": "python3",
      "display_name": "Python 3"
    },
    "language_info": {
      "name": "python"
    }
  },
  "cells": [
    {
      "cell_type": "markdown",
      "metadata": {
        "id": "iTjzANiT2b8h"
      },
      "source": [
        "**# Bandera del Perú con Python**"
      ]
    },
    {
      "cell_type": "code",
      "metadata": {
        "id": "yLpwmiSZ2bGu"
      },
      "source": [
        "#Importamos las librerias necesarias\n",
        "import cv2\n",
        "import numpy as np\n",
        "import matplotlib.pyplot as plt"
      ],
      "execution_count": 1,
      "outputs": []
    },
    {
      "cell_type": "code",
      "metadata": {
        "id": "dR5xpKjA2r3C"
      },
      "source": [
        ""
      ],
      "execution_count": null,
      "outputs": []
    },
    {
      "cell_type": "markdown",
      "metadata": {
        "id": "ipMdZtvf6IGG"
      },
      "source": [
        "**(1) Creamos nuestro espacio para nuestro lienzo**"
      ]
    },
    {
      "cell_type": "code",
      "metadata": {
        "colab": {
          "base_uri": "https://localhost:8080/",
          "height": 261
        },
        "id": "UDoV_V0H2bxy",
        "outputId": "57edea5c-8ddb-4cee-b02a-6b4d20e47d98"
      },
      "source": [
        "# Primero que nada creamos nuestra área de trabajo para plasmar en donde se va a visualizar nuestra imagen\n",
        "# ----------------------------------------------\n",
        "area = 255*np.ones((400,700,3),dtype=np.uint8)\n",
        "plt.imshow(area)"
      ],
      "execution_count": 2,
      "outputs": [
        {
          "output_type": "execute_result",
          "data": {
            "text/plain": [
              "<matplotlib.image.AxesImage at 0x7f11241093d0>"
            ]
          },
          "metadata": {
            "tags": []
          },
          "execution_count": 2
        },
        {
          "output_type": "display_data",
          "data": {
            "image/png": "[encoded data removed]",
            "text/plain": [
              "<Figure size 432x288 with 1 Axes>"
            ]
          },
          "metadata": {
            "tags": [],
            "needs_background": "light"
          }
        }
      ]
    },
    {
      "cell_type": "markdown",
      "metadata": {
        "id": "lmwi4iNK6bVr"
      },
      "source": [
        "**(2) Creamos el borde de la bandera**\n",
        "\n",
        "- Usamos la función cv2.rectangle, donde especificamos que la imagen se guardará en la variable área.\n",
        "- El punto inicial está en (50,80), x e y.\n",
        "- El punto inferior derecho está en (200,200)\n",
        "- El color en BGR es (0,255,0) que corresponde al color verde\n",
        "- El grosor de línea es de 1 pixel."
      ]
    },
    {
      "cell_type": "code",
      "metadata": {
        "colab": {
          "base_uri": "https://localhost:8080/",
          "height": 261
        },
        "id": "E9_6tt9f6T6I",
        "outputId": "7275687b-b7ab-43f2-8f58-e0f0e14adeb1"
      },
      "source": [
        "# Dibujamos un rectángulo\n",
        "# -------------------------\n",
        "cv2.rectangle(area,(50,70),(250,330),(255,0,0),-1)\n",
        "cv2.rectangle(area,(250,70),(450,330),(255,0,0),1)\n",
        "cv2.rectangle(area,(450,70),(650,330),(255,0,0),-1)\n",
        "plt.imshow(area)"
      ],
      "execution_count": 3,
      "outputs": [
        {
          "output_type": "execute_result",
          "data": {
            "text/plain": [
              "<matplotlib.image.AxesImage at 0x7f1123bb54d0>"
            ]
          },
          "metadata": {
            "tags": []
          },
          "execution_count": 3
        },
        {
          "output_type": "display_data",
          "data": {
            "image/png": "[encoded data removed]",
            "text/plain": [
              "<Figure size 432x288 with 1 Axes>"
            ]
          },
          "metadata": {
            "tags": [],
            "needs_background": "light"
          }
        }
      ]
    },
    {
      "cell_type": "code",
      "metadata": {
        "id": "inEB2pWZ4Oqf"
      },
      "source": [
        ""
      ],
      "execution_count": null,
      "outputs": []
    },
    {
      "cell_type": "markdown",
      "metadata": {
        "id": "Ta6o__EmBV0c"
      },
      "source": [
        "**(3) Creamos un mensaje personalizado**\n",
        "\n",
        "Para agregar un mensaje a nuestra imagen, es necesario especificar los siguientes atributos:\n",
        "\n",
        "- Coordenadas del sitio donde quiere colocar el texto en la imagen\n",
        "- Tipo de fuente\n",
        "- Escala de fuentes\n"
      ]
    },
    {
      "cell_type": "code",
      "metadata": {
        "colab": {
          "base_uri": "https://localhost:8080/",
          "height": 261
        },
        "id": "2cQRns5y3fLQ",
        "outputId": "706ddd2e-ee2e-41eb-d8b6-658021d1038a"
      },
      "source": [
        "font = cv2.FONT_HERSHEY_SIMPLEX\n",
        "cv2.putText(area,'FELIZ BICENTENARIO PERU',(77,60), font, 1.3,(255,0,0),2,cv2.LINE_AA)\n",
        "plt.imshow(area)"
      ],
      "execution_count": 4,
      "outputs": [
        {
          "output_type": "execute_result",
          "data": {
            "text/plain": [
              "<matplotlib.image.AxesImage at 0x7f1123b24f50>"
            ]
          },
          "metadata": {
            "tags": []
          },
          "execution_count": 4
        },
        {
          "output_type": "display_data",
          "data": {
            "image/png": "[encoded data removed]",
            "text/plain": [
              "<Figure size 432x288 with 1 Axes>"
            ]
          },
          "metadata": {
            "tags": [],
            "needs_background": "light"
          }
        }
      ]
    },
    {
      "cell_type": "code",
      "metadata": {
        "id": "UL_Tsjdu3fN8"
      },
      "source": [
        "# Viva el Perú!!"
      ],
      "execution_count": null,
      "outputs": []
    }
  ]
}